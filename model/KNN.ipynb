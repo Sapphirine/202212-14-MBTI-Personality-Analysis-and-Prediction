{
 "cells": [
  {
   "cell_type": "code",
   "execution_count": 1,
   "id": "920631e0",
   "metadata": {},
   "outputs": [],
   "source": [
    "import pandas as pd\n",
    "import numpy as np\n",
    "from sklearn.model_selection import train_test_split\n",
    "from sklearn.feature_extraction.text import TfidfVectorizer\n",
    "from sklearn.neighbors import KNeighborsClassifier\n",
    "from sklearn.pipeline import Pipeline\n",
    "from sklearn.metrics import classification_report"
   ]
  },
  {
   "cell_type": "code",
   "execution_count": 2,
   "id": "611537ca",
   "metadata": {},
   "outputs": [
    {
     "data": {
      "text/html": [
       "<div>\n",
       "<style scoped>\n",
       "    .dataframe tbody tr th:only-of-type {\n",
       "        vertical-align: middle;\n",
       "    }\n",
       "\n",
       "    .dataframe tbody tr th {\n",
       "        vertical-align: top;\n",
       "    }\n",
       "\n",
       "    .dataframe thead th {\n",
       "        text-align: right;\n",
       "    }\n",
       "</style>\n",
       "<table border=\"1\" class=\"dataframe\">\n",
       "  <thead>\n",
       "    <tr style=\"text-align: right;\">\n",
       "      <th></th>\n",
       "      <th>Unnamed: 0</th>\n",
       "      <th>posts</th>\n",
       "      <th>type</th>\n",
       "    </tr>\n",
       "  </thead>\n",
       "  <tbody>\n",
       "    <tr>\n",
       "      <th>0</th>\n",
       "      <td>0</td>\n",
       "      <td>laptop barrier freeze counsel sibling yay istp...</td>\n",
       "      <td>ENFJ</td>\n",
       "    </tr>\n",
       "    <tr>\n",
       "      <th>1</th>\n",
       "      <td>1</td>\n",
       "      <td>deem rant grateful whats yay butt sarcasm uh b...</td>\n",
       "      <td>ENFJ</td>\n",
       "    </tr>\n",
       "    <tr>\n",
       "      <th>2</th>\n",
       "      <td>2</td>\n",
       "      <td>lover gut sibling aww cash usa submit istp ove...</td>\n",
       "      <td>ENFJ</td>\n",
       "    </tr>\n",
       "    <tr>\n",
       "      <th>3</th>\n",
       "      <td>3</td>\n",
       "      <td>yo radio gut sx cue harmony reminder doms rout...</td>\n",
       "      <td>ENFJ</td>\n",
       "    </tr>\n",
       "    <tr>\n",
       "      <th>4</th>\n",
       "      <td>4</td>\n",
       "      <td>partly sacrifice gf sarcasm attachment escape ...</td>\n",
       "      <td>ENFJ</td>\n",
       "    </tr>\n",
       "  </tbody>\n",
       "</table>\n",
       "</div>"
      ],
      "text/plain": [
       "   Unnamed: 0                                              posts  type\n",
       "0           0  laptop barrier freeze counsel sibling yay istp...  ENFJ\n",
       "1           1  deem rant grateful whats yay butt sarcasm uh b...  ENFJ\n",
       "2           2  lover gut sibling aww cash usa submit istp ove...  ENFJ\n",
       "3           3  yo radio gut sx cue harmony reminder doms rout...  ENFJ\n",
       "4           4  partly sacrifice gf sarcasm attachment escape ...  ENFJ"
      ]
     },
     "execution_count": 2,
     "metadata": {},
     "output_type": "execute_result"
    }
   ],
   "source": [
    "MBTI = pd.read_csv('MBTI_balanced.csv')\n",
    "MBTI.head()"
   ]
  },
  {
   "cell_type": "code",
   "execution_count": 3,
   "id": "8d1f6d03",
   "metadata": {},
   "outputs": [],
   "source": [
    "X = MBTI['posts'] # features\n",
    "y = MBTI['type']  # labels\n",
    "X_train, X_test, y_train, y_test = train_test_split(X, y, test_size=0.2)"
   ]
  },
  {
   "cell_type": "code",
   "execution_count": 4,
   "id": "5049fc71",
   "metadata": {},
   "outputs": [],
   "source": [
    "vectorizer = TfidfVectorizer(analyzer='word', max_features=3000, lowercase=False)"
   ]
  },
  {
   "cell_type": "code",
   "execution_count": 5,
   "id": "25ad1ec6",
   "metadata": {},
   "outputs": [
    {
     "data": {
      "text/plain": [
       "Pipeline(steps=[('tfidf', TfidfVectorizer(lowercase=False, max_features=3000)),\n",
       "                ('clf', KNeighborsClassifier(n_neighbors=1000))])"
      ]
     },
     "execution_count": 5,
     "metadata": {},
     "output_type": "execute_result"
    }
   ],
   "source": [
    "text_clf = Pipeline([('tfidf',TfidfVectorizer(analyzer='word', max_features=3000, lowercase=False)),('clf', KNeighborsClassifier(n_neighbors = 1000))])\n",
    "text_clf.fit(X_train.apply(lambda x: np.str_(x)), y_train)"
   ]
  },
  {
   "cell_type": "code",
   "execution_count": 6,
   "id": "4abff4e3",
   "metadata": {},
   "outputs": [
    {
     "name": "stderr",
     "output_type": "stream",
     "text": [
      "D:\\Anacoda\\lib\\site-packages\\sklearn\\neighbors\\_classification.py:228: FutureWarning: Unlike other reduction functions (e.g. `skew`, `kurtosis`), the default behavior of `mode` typically preserves the axis it acts along. In SciPy 1.11.0, this behavior will change: the default value of `keepdims` will become False, the `axis` over which the statistic is taken will be eliminated, and the value None will no longer be accepted. Set `keepdims` to True or False to avoid this warning.\n",
      "  mode, _ = stats.mode(_y[neigh_ind, k], axis=1)\n",
      "D:\\Anacoda\\lib\\site-packages\\sklearn\\metrics\\_classification.py:1318: UndefinedMetricWarning: Precision and F-score are ill-defined and being set to 0.0 in labels with no predicted samples. Use `zero_division` parameter to control this behavior.\n",
      "  _warn_prf(average, modifier, msg_start, len(result))\n",
      "D:\\Anacoda\\lib\\site-packages\\sklearn\\metrics\\_classification.py:1318: UndefinedMetricWarning: Precision and F-score are ill-defined and being set to 0.0 in labels with no predicted samples. Use `zero_division` parameter to control this behavior.\n",
      "  _warn_prf(average, modifier, msg_start, len(result))\n"
     ]
    },
    {
     "name": "stdout",
     "output_type": "stream",
     "text": [
      "              precision    recall  f1-score   support\n",
      "\n",
      "        ENFJ       0.60      0.78      0.68      5000\n",
      "        ENFP       0.51      0.55      0.53      5000\n",
      "        ENTJ       0.75      0.72      0.73      5029\n",
      "        ENTP       0.79      0.05      0.09      4977\n",
      "        ESFJ       0.39      1.00      0.56      4981\n",
      "        ESFP       0.46      0.97      0.62      4843\n",
      "        ESTJ       0.96      0.94      0.95      5062\n",
      "        ESTP       0.85      0.92      0.88      5025\n",
      "        INFJ       0.91      0.06      0.12      5043\n",
      "        INFP       0.85      0.09      0.16      4930\n",
      "        INTJ       1.00      0.00      0.00      5044\n",
      "        INTP       0.00      0.00      0.00      4966\n",
      "        ISFJ       0.41      0.89      0.56      4970\n",
      "        ISFP       0.58      0.80      0.67      4915\n",
      "        ISTJ       0.58      0.82      0.68      5011\n",
      "        ISTP       0.73      0.57      0.64      5080\n",
      "\n",
      "    accuracy                           0.57     79876\n",
      "   macro avg       0.65      0.57      0.49     79876\n",
      "weighted avg       0.65      0.57      0.49     79876\n",
      "\n"
     ]
    },
    {
     "name": "stderr",
     "output_type": "stream",
     "text": [
      "D:\\Anacoda\\lib\\site-packages\\sklearn\\metrics\\_classification.py:1318: UndefinedMetricWarning: Precision and F-score are ill-defined and being set to 0.0 in labels with no predicted samples. Use `zero_division` parameter to control this behavior.\n",
      "  _warn_prf(average, modifier, msg_start, len(result))\n"
     ]
    }
   ],
   "source": [
    "predictions = text_clf.predict(X_test.apply(lambda x: np.str_(x)))\n",
    "print(classification_report(y_test, predictions))"
   ]
  },
  {
   "cell_type": "code",
   "execution_count": null,
   "id": "6d3829bf",
   "metadata": {},
   "outputs": [],
   "source": []
  }
 ],
 "metadata": {
  "kernelspec": {
   "display_name": "Python 3 (ipykernel)",
   "language": "python",
   "name": "python3"
  },
  "language_info": {
   "codemirror_mode": {
    "name": "ipython",
    "version": 3
   },
   "file_extension": ".py",
   "mimetype": "text/x-python",
   "name": "python",
   "nbconvert_exporter": "python",
   "pygments_lexer": "ipython3",
   "version": "3.9.13"
  }
 },
 "nbformat": 4,
 "nbformat_minor": 5
}
